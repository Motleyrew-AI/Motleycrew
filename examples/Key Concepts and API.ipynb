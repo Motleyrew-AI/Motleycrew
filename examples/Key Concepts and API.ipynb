{
 "cells": [
  {
   "cell_type": "markdown",
   "id": "b3b718de-7b24-4952-a95f-fe0e683f85c9",
   "metadata": {},
   "source": [
    "# Key Concepts and API"
   ]
  },
  {
   "cell_type": "markdown",
   "id": "22193d0e-9e0a-4fbf-8bc7-36301a695500",
   "metadata": {},
   "source": [
    "## Crew and knowledge graph"
   ]
  },
  {
   "cell_type": "markdown",
   "id": "12a0903c-2ab0-450d-9181-7318df164f94",
   "metadata": {},
   "source": [
    "## Task recipes, tasks, and workers"
   ]
  },
  {
   "cell_type": "markdown",
   "id": "fbf20224-d1d3-436f-891f-d49eaad3e3e9",
   "metadata": {},
   "source": [
    "## Setting task priority with the >> operator"
   ]
  },
  {
   "cell_type": "code",
   "execution_count": null,
   "id": "bb99d9ba-0f81-4af6-9adb-a63165aa0dd3",
   "metadata": {},
   "outputs": [],
   "source": []
  }
 ],
 "metadata": {
  "kernelspec": {
   "display_name": "Python [conda env:.conda-crewai3.11]",
   "language": "python",
   "name": "conda-env-.conda-crewai3.11-py"
  },
  "language_info": {
   "codemirror_mode": {
    "name": "ipython",
    "version": 3
   },
   "file_extension": ".py",
   "mimetype": "text/x-python",
   "name": "python",
   "nbconvert_exporter": "python",
   "pygments_lexer": "ipython3",
   "version": "3.11.7"
  }
 },
 "nbformat": 4,
 "nbformat_minor": 5
}
