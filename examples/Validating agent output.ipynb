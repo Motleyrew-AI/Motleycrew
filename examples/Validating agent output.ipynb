{
 "cells": [
  {
   "cell_type": "markdown",
   "metadata": {},
   "source": [
    "# Using an output handler for validating agent's output\n",
    "\n",
    "As no one can guarantee the validity or integrity of a raw LLM output, getting a sensible and/or structured output from an agent is tricky. In motleycrew, we addressed this issue with a novel approach: please welcome **output handlers**.\n",
    "\n",
    "As of now, tool calling is the most reliable way to get a structured output from an LLM. So why not have an output handler - a regular tool with an input schema and a description which instructs the agent to return the output only via this tool. Moreover, we can force the agent into doing this: if it attempts to finish the regular way, we intercept the message and remind the agent that it must call the tool instead."
   ]
  },
  {
   "cell_type": "code",
   "execution_count": 1,
   "metadata": {},
   "outputs": [],
   "source": [
    "from langchain_community.tools import DuckDuckGoSearchRun\n",
    "\n",
    "from motleycrew import MotleyCrew\n",
    "from motleycrew.agents.langchain import ReActToolCallingMotleyAgent\n",
    "from motleycrew.common import configure_logging\n",
    "from motleycrew.tasks import SimpleTask\n",
    "\n",
    "from motleycrew.common.exceptions import InvalidOutput\n",
    "\n",
    "from langchain_core.tools import StructuredTool"
   ]
  },
  {
   "cell_type": "markdown",
   "metadata": {},
   "source": [
    "We'll be prompting our agent to create a report on the latest advancements in AI.  \n",
    "Say we want it to also include some info on AI applications in physics if it did not already. So our output handler will look for the keyword \"physics\" in the agent's output.\n",
    "\n",
    "Also, we can do any data manipulations we want inside the output handler. In this case, let's just place the output into a certain field."
   ]
  },
  {
   "cell_type": "code",
   "execution_count": 2,
   "metadata": {},
   "outputs": [],
   "source": [
    "def check_output(output: str):\n",
    "    if \"physics\" not in output.lower():\n",
    "        raise InvalidOutput(\"Add more information about AI applications in physics.\")\n",
    "\n",
    "    return {\"checked_output\": output}\n",
    "\n",
    "output_handler = StructuredTool.from_function(\n",
    "    name=\"output_handler\",\n",
    "    description=\"Output handler\",\n",
    "    func=check_output,\n",
    ")  # Schema is inferred from the function signature, but you can also specify it explicitly"
   ]
  },
  {
   "cell_type": "markdown",
   "metadata": {},
   "source": [
    "Now let's create our agent and launch the crew!"
   ]
  },
  {
   "cell_type": "code",
   "execution_count": 3,
   "metadata": {},
   "outputs": [
    {
     "name": "stderr",
     "output_type": "stream",
     "text": [
      "2024-07-19 17:06:03,116 - motleycrew - WARNING - No known Cypher type matching annotation typing.Optional[typing.Any], will use JSON string\n",
      "2024-07-19 17:06:03,120 - motleycrew - WARNING - No known Cypher type matching annotation typing.Optional[dict[str, typing.Any]], will use JSON string\n"
     ]
    }
   ],
   "source": [
    "search_tool = DuckDuckGoSearchRun()\n",
    "researcher = ReActToolCallingMotleyAgent(\n",
    "    tools=[search_tool],\n",
    "    verbose=True,\n",
    "    chat_history=True,\n",
    "    output_handler=output_handler,\n",
    ")\n",
    "\n",
    "crew = MotleyCrew()\n",
    "task = SimpleTask(\n",
    "    crew=crew,\n",
    "    name=\"produce comprehensive analysis report on AI advancements in 2024\",\n",
    "    description=\"\"\"Conduct a comprehensive analysis of the latest advancements in AI in 2024.\n",
    "  Identify key trends, breakthrough technologies, and potential industry impacts.\n",
    "  Your final answer MUST be a full analysis report\"\"\",\n",
    "    agent=researcher,\n",
    ")"
   ]
  },
  {
   "cell_type": "code",
   "execution_count": 4,
   "metadata": {},
   "outputs": [
    {
     "name": "stderr",
     "output_type": "stream",
     "text": [
      "2024-07-19 17:06:03,183 - motleycrew - WARNING - No known Cypher type matching annotation typing.Optional[typing.Any], will use JSON string\n",
      "2024-07-19 17:06:03,183 - motleycrew - WARNING - No known Cypher type matching annotation typing.Optional[dict[str, typing.Any]], will use JSON string\n"
     ]
    },
    {
     "name": "stdout",
     "output_type": "stream",
     "text": [
      "\n",
      "\n",
      "\u001b[1m> Entering new AgentExecutor chain...\u001b[0m\n",
      "\u001b[32;1m\u001b[1;3m\n",
      "Invoking: `duckduckgo_search` with `{'query': 'latest advancements in AI 2024'}`\n",
      "responded: Thought: To conduct a comprehensive analysis of the latest advancements in AI in 2024, I need to gather information on key trends, breakthrough technologies, and potential industry impacts. I will start by searching for the latest news and reports on AI advancements in 2024.\n",
      "\n",
      "I will use the DuckDuckGo search tool to find relevant information.\n",
      "\n",
      "\n",
      "\n",
      "\u001b[0m\u001b[36;1m\u001b[1;3mHere are some important current AI trends to look out for in the coming year. Reality check: more realistic expectations. Multimodal AI. Small (er) language models and open source advancements. GPU shortages and cloud costs. Model optimization is getting more accessible. Customized local models and data pipelines. More powerful virtual agents. In 2024, generative AI might actually become useful for the regular, non-tech person, and we are going to see more people tinkering with a million little AI models. State-of-the-art AI models ... Now. When OpenAI launched a free web app called ChatGPT in November 2022, nobody knew what was coming. But that low-key release changed everything. By January, ChatGPT had become the fastest ... Adobe Stock. It's been a year since OpenAI released ChatGPT, opening the door to seamlessly weave AI into the fabric of our daily lives, propelling industries into the future and even prompting ... 2. Open source AI models. In 2024, open source pretrained AI models gain significant traction, empowering businesses to accelerate growth by combining these models with private or real-time data. This synergy enhances productivity and cost-efficiency. IBM actively contributes to open source AI models, which are exemplified by its collaboration ...\u001b[0m\u001b[32;1m\u001b[1;3m\n",
      "Invoking: `duckduckgo_search` with `{'query': 'key trends in AI 2024'}`\n",
      "responded: Thought: The initial search has provided some insights into the key trends and advancements in AI for 2024. However, to create a comprehensive analysis report, I need more detailed information on specific breakthrough technologies and their potential industry impacts. I will perform additional searches focusing on these aspects.\n",
      "\n",
      "I will conduct parallel searches on the following topics:\n",
      "1. Key trends in AI 2024\n",
      "2. Breakthrough AI technologies in 2024\n",
      "3. Potential industry impacts of AI advancements in 2024\n",
      "\n",
      "\n",
      "\n",
      "\u001b[0m\u001b[36;1m\u001b[1;3mThe most important AI trends in 2024. 2022 was the year that generative artificial intelligence (AI) exploded into the public consciousness, and 2023 was the year it began to take root in the business world. 2024 thus stands to be a pivotal year for the future of AI, as researchers and enterprises seek to establish how this evolutionary leap in ... 5. Data, analytics, and AI leaders are becoming less independent. This past year, we began to notice that increasing numbers of organizations were cutting back on the proliferation of technology and data \"chiefs,\" including chief data and analytics officers (and sometimes chief AI officers). In 2024, generative AI might actually become useful for the regular, non-tech person, and we are going to see more people tinkering with a million little AI models. State-of-the-art AI models ... If 2023 was the year the world discovered generative AI (gen AI), 2024 is the year organizations truly began using—and deriving business value from—this new technology.In the latest McKinsey Global Survey on AI, 65 percent of respondents report that their organizations are regularly using gen AI, nearly double the percentage from our previous survey just ten months ago. This year's trends reflect a deepening sophistication and caution in AI development and deployment strategies, with an eye to ethics, safety and the evolving regulatory landscape. Here are the top 10 AI and machine learning trends to prepare for in 2024. 1. Multimodal AI. Multimodal AI goes beyond traditional single-mode data processing to ...\u001b[0m\u001b[32;1m\u001b[1;3m\n",
      "Invoking: `duckduckgo_search` with `{'query': 'breakthrough AI technologies 2024'}`\n",
      "responded: Thought: The initial search has provided some insights into the key trends and advancements in AI for 2024. However, to create a comprehensive analysis report, I need more detailed information on specific breakthrough technologies and their potential industry impacts. I will perform additional searches focusing on these aspects.\n",
      "\n",
      "I will conduct parallel searches on the following topics:\n",
      "1. Key trends in AI 2024\n",
      "2. Breakthrough AI technologies in 2024\n",
      "3. Potential industry impacts of AI advancements in 2024\n",
      "\n",
      "\n",
      "\n",
      "\u001b[0m\u001b[36;1m\u001b[1;3mGenerative AI tools like ChatGPT reached mass adoption in record time, and reset the course of an entire industry. ... AI for everything: 10 Breakthrough Technologies 2024. 10 Breakthrough Technologies. Every year, the reporters and editors at MIT Technology Review survey the tech landscape and pick 10 technologies that we think have the greatest potential to change ... In 2024, generative AI might actually become useful for the regular, non-tech person, and we are going to see more people tinkering with a million little AI models. State-of-the-art AI models ... 2022 was the year that generative artificial intelligence (AI) exploded into the public consciousness, and 2023 was the year it began to take root in the business world. 2024 thus stands to be a pivotal year for the future of AI, as researchers and enterprises seek to establish how this evolutionary leap in technology can be most practically integrated into our everyday lives. Jun 25, 2024. Top 10 Emerging Technologies of 2024: AI-powered scientific discovery and elastocalorics are among the 10 listed technologies. Image: World Economic Forum. This article is part of: Annual Meeting of the New Champions. The World Economic Forum's Top 10 Emerging Technologies of 2024 report lists this year's most impactful emerging ...\u001b[0m\u001b[32;1m\u001b[1;3m\n",
      "Invoking: `duckduckgo_search` with `{'query': 'potential industry impacts of AI advancements 2024'}`\n",
      "responded: Thought: The initial search has provided some insights into the key trends and advancements in AI for 2024. However, to create a comprehensive analysis report, I need more detailed information on specific breakthrough technologies and their potential industry impacts. I will perform additional searches focusing on these aspects.\n",
      "\n",
      "I will conduct parallel searches on the following topics:\n",
      "1. Key trends in AI 2024\n",
      "2. Breakthrough AI technologies in 2024\n",
      "3. Potential industry impacts of AI advancements in 2024\n",
      "\n",
      "\n",
      "\n",
      "\u001b[0m\u001b[36;1m\u001b[1;3mHere are some important current AI trends to look out for in the coming year. Reality check: more realistic expectations. Multimodal AI. Small (er) language models and open source advancements. GPU shortages and cloud costs. Model optimization is getting more accessible. Customized local models and data pipelines. More powerful virtual agents. If 2023 was the year the world discovered generative AI (gen AI), 2024 is the year organizations truly began using—and deriving business value from—this new technology.In the latest McKinsey Global Survey on AI, 65 percent of respondents report that their organizations are regularly using gen AI, nearly double the percentage from our previous survey just ten months ago. In 2024, generative AI might actually become useful for the regular, non-tech person, and we are going to see more people tinkering with a million little AI models. State-of-the-art AI models ... The manufacturing industry is expected to see the largest financial impact due to AI. An Accenture report forecasts that the manufacturing sector will reap the greatest financial benefit from AI ... getty. 2024 will mark a watershed moment for generative artificial intelligence, triggering a metamorphosis across the global economic landscape as businesses wake up to its broad potential ...\u001b[0m\u001b[32;1m\u001b[1;3m\n",
      "Detected AgentFinish, blocking it to force output via output handler.\n",
      "\u001b[0m\u001b[38;5;200m\u001b[1;3mYou must call the `output_handler` tool to return the final output.\n",
      "\u001b[0m\u001b[32;1m\u001b[1;3m\n",
      "Invoking: `output_handler` with `{'output': '### Comprehensive Analysis of AI Advancements in 2024\\n\\n#### Key Trends in AI 2024\\n\\n1. **Generative AI Maturation**:\\n   - Generative AI, which gained significant attention in 2023, is expected to become more practical and useful for everyday users in 2024. This includes applications in content creation, customer service, and personalized experiences.\\n   - The adoption of generative AI by businesses is accelerating, with 65% of organizations regularly using it, nearly double the percentage from the previous year.\\n\\n2. **Multimodal AI**:\\n   - Multimodal AI, which processes and integrates data from multiple sources (e.g., text, images, audio), is becoming more prevalent. This allows for more sophisticated and context-aware AI applications.\\n\\n3. **Smaller and Open Source Models**:\\n   - There is a trend towards smaller, more efficient AI models that are easier to deploy and manage. Open source AI models are gaining traction, enabling businesses to customize and optimize AI solutions for their specific needs.\\n\\n4. **Ethics and Regulation**:\\n   - As AI technologies become more integrated into society, there is a growing emphasis on ethical considerations, safety, and regulatory compliance. Organizations are adopting more cautious and responsible AI development and deployment strategies.\\n\\n5. **AI in Data and Analytics**:\\n   - The role of AI in data and analytics is evolving, with a focus on integrating AI capabilities into existing data pipelines and analytics workflows. This trend is driven by the need for more accurate and actionable insights.\\n\\n#### Breakthrough AI Technologies in 2024\\n\\n1. **AI-Powered Scientific Discovery**:\\n   - AI is playing a crucial role in accelerating scientific research and discovery. AI algorithms are being used to analyze vast amounts of data, identify patterns, and generate new hypotheses in fields such as medicine, materials science, and climate research.\\n\\n2. **Elastocalorics**:\\n   - Elastocaloric materials, which can change temperature under mechanical stress, are being explored for their potential in energy-efficient cooling systems. AI is being used to optimize the design and performance of these materials.\\n\\n3. **Advanced Virtual Agents**:\\n   - Virtual agents are becoming more powerful and capable of handling complex interactions. These agents are being used in customer service, healthcare, and education to provide personalized and efficient support.\\n\\n4. **Model Optimization**:\\n   - Techniques for optimizing AI models, such as pruning and quantization, are becoming more accessible. This allows for the deployment of AI models on resource-constrained devices, such as smartphones and IoT devices.\\n\\n#### Potential Industry Impacts\\n\\n1. **Manufacturing**:\\n   - The manufacturing industry is expected to see the largest financial impact from AI. AI-driven automation, predictive maintenance, and quality control are enhancing productivity and reducing costs.\\n\\n2. **Healthcare**:\\n   - AI is transforming healthcare by enabling early diagnosis, personalized treatment plans, and efficient management of healthcare resources. AI-powered tools are improving patient outcomes and reducing the burden on healthcare professionals.\\n\\n3. **Finance**:\\n   - In the finance sector, AI is being used for fraud detection, risk management, and personalized financial services. AI algorithms are enhancing the accuracy and efficiency of financial operations.\\n\\n4. **Retail**:\\n   - AI is revolutionizing the retail industry by enabling personalized shopping experiences, optimizing supply chain management, and enhancing customer service. Retailers are using AI to analyze consumer behavior and predict trends.\\n\\n5. **Energy**:\\n   - AI is playing a key role in optimizing energy production and consumption. AI algorithms are being used to manage smart grids, predict energy demand, and improve the efficiency of renewable energy sources.'}`\n",
      "responded: Thought: I have compiled a comprehensive analysis of the latest advancements in AI in 2024, including key trends, breakthrough technologies, and potential industry impacts. The next step is to return this final output using the `output_handler` tool.\n",
      "\n",
      "\n",
      "\n",
      "\u001b[0m\u001b[33;1m\u001b[1;3mInvalidOutput: Add more information about AI applications in physics.\u001b[0m\u001b[32;1m\u001b[1;3m\n",
      "Invoking: `duckduckgo_search` with `{'query': 'AI applications in physics 2024'}`\n",
      "responded: Thought: To complete the comprehensive analysis, I need to include more information about AI applications in physics. I will search for the latest advancements and applications of AI in the field of physics in 2024.\n",
      "\n",
      "\n",
      "\n",
      "\u001b[0m\u001b[36;1m\u001b[1;3mResearchers used generative AI to develop a physics-informed technique to classify phase transitions in materials or physical systems that is much more efficient than existing machine-learning approaches. The work was led by researchers at MIT and the University of Basel. More information: Julian Arnold et al, Mapping out phase diagrams with generative classifiers, Physical Review Letters (2024). DOI: 10.1103/PhysRevLett.132.207301 . On arXiv (2023): DOI: 10.48550 ... \"This can lead to new innovations and applications in many industries.\" LCLS and SSRL are DOE Office of Science user facilities. This research was supported by the Office of Science. Citations: S. Chitturi et al., npj Computational Materials, 18 July 2024 (10.1038/s41524-024-01326-2) For pharmaceutical applications, the challenge is even greater—with about 10 60 possible drug-like molecules containing only the most basic building blocks (C, H, O, N and S atoms). Our physics-inspired fast and explainable surrogate models will be of great use in those applications, and play a complementary role to other emerging techniques, like foundation models.\" The research was supported by the MIT-IBM Watson AI Lab and the U.S. Army Research Office through the Institute for Soldier Nanotechnologies.\u001b[0m"
     ]
    },
    {
     "name": "stderr",
     "output_type": "stream",
     "text": [
      "WARNING:langchain_core.callbacks.manager:Error in RootListenersTracer.on_chain_end callback: ValueError()\n",
      "2024-07-19 17:07:33,737 - motleycrew - WARNING - No known Cypher type matching annotation typing.Optional[typing.Any], will use JSON string\n"
     ]
    },
    {
     "name": "stdout",
     "output_type": "stream",
     "text": [
      "\u001b[32;1m\u001b[1;3m\n",
      "Invoking: `output_handler` with `{'output': '### Comprehensive Analysis of AI Advancements in 2024\\n\\n#### Key Trends in AI 2024\\n\\n1. **Generative AI Maturation**:\\n   - Generative AI, which gained significant attention in 2023, is expected to become more practical and useful for everyday users in 2024. This includes applications in content creation, customer service, and personalized experiences.\\n   - The adoption of generative AI by businesses is accelerating, with 65% of organizations regularly using it, nearly double the percentage from the previous year.\\n\\n2. **Multimodal AI**:\\n   - Multimodal AI, which processes and integrates data from multiple sources (e.g., text, images, audio), is becoming more prevalent. This allows for more sophisticated and context-aware AI applications.\\n\\n3. **Smaller and Open Source Models**:\\n   - There is a trend towards smaller, more efficient AI models that are easier to deploy and manage. Open source AI models are gaining traction, enabling businesses to customize and optimize AI solutions for their specific needs.\\n\\n4. **Ethics and Regulation**:\\n   - As AI technologies become more integrated into society, there is a growing emphasis on ethical considerations, safety, and regulatory compliance. Organizations are adopting more cautious and responsible AI development and deployment strategies.\\n\\n5. **AI in Data and Analytics**:\\n   - The role of AI in data and analytics is evolving, with a focus on integrating AI capabilities into existing data pipelines and analytics workflows. This trend is driven by the need for more accurate and actionable insights.\\n\\n#### Breakthrough AI Technologies in 2024\\n\\n1. **AI-Powered Scientific Discovery**:\\n   - AI is playing a crucial role in accelerating scientific research and discovery. AI algorithms are being used to analyze vast amounts of data, identify patterns, and generate new hypotheses in fields such as medicine, materials science, and climate research.\\n\\n2. **Elastocalorics**:\\n   - Elastocaloric materials, which can change temperature under mechanical stress, are being explored for their potential in energy-efficient cooling systems. AI is being used to optimize the design and performance of these materials.\\n\\n3. **Advanced Virtual Agents**:\\n   - Virtual agents are becoming more powerful and capable of handling complex interactions. These agents are being used in customer service, healthcare, and education to provide personalized and efficient support.\\n\\n4. **Model Optimization**:\\n   - Techniques for optimizing AI models, such as pruning and quantization, are becoming more accessible. This allows for the deployment of AI models on resource-constrained devices, such as smartphones and IoT devices.\\n\\n5. **AI in Physics**:\\n   - Researchers are using generative AI to develop physics-informed techniques for classifying phase transitions in materials and physical systems. This approach is more efficient than existing machine-learning methods and has the potential to drive new innovations in various industries.\\n\\n#### Potential Industry Impacts\\n\\n1. **Manufacturing**:\\n   - The manufacturing industry is expected to see the largest financial impact from AI. AI-driven automation, predictive maintenance, and quality control are enhancing productivity and reducing costs.\\n\\n2. **Healthcare**:\\n   - AI is transforming healthcare by enabling early diagnosis, personalized treatment plans, and efficient management of healthcare resources. AI-powered tools are improving patient outcomes and reducing the burden on healthcare professionals.\\n\\n3. **Finance**:\\n   - In the finance sector, AI is being used for fraud detection, risk management, and personalized financial services. AI algorithms are enhancing the accuracy and efficiency of financial operations.\\n\\n4. **Retail**:\\n   - AI is revolutionizing the retail industry by enabling personalized shopping experiences, optimizing supply chain management, and enhancing customer service. Retailers are using AI to analyze consumer behavior and predict trends.\\n\\n5. **Energy**:\\n   - AI is playing a key role in optimizing energy production and consumption. AI algorithms are being used to manage smart grids, predict energy demand, and improve the efficiency of renewable energy sources.'}`\n",
      "responded: Thought: I have gathered additional information on AI applications in physics, specifically focusing on the use of generative AI to classify phase transitions in materials and physical systems. I will now integrate this information into the comprehensive analysis report and finalize it.\n",
      "\n",
      "\n",
      "\n",
      "\u001b[0m\u001b[33;1m\u001b[1;3m{'checked_output': '### Comprehensive Analysis of AI Advancements in 2024\\n\\n#### Key Trends in AI 2024\\n\\n1. **Generative AI Maturation**:\\n   - Generative AI, which gained significant attention in 2023, is expected to become more practical and useful for everyday users in 2024. This includes applications in content creation, customer service, and personalized experiences.\\n   - The adoption of generative AI by businesses is accelerating, with 65% of organizations regularly using it, nearly double the percentage from the previous year.\\n\\n2. **Multimodal AI**:\\n   - Multimodal AI, which processes and integrates data from multiple sources (e.g., text, images, audio), is becoming more prevalent. This allows for more sophisticated and context-aware AI applications.\\n\\n3. **Smaller and Open Source Models**:\\n   - There is a trend towards smaller, more efficient AI models that are easier to deploy and manage. Open source AI models are gaining traction, enabling businesses to customize and optimize AI solutions for their specific needs.\\n\\n4. **Ethics and Regulation**:\\n   - As AI technologies become more integrated into society, there is a growing emphasis on ethical considerations, safety, and regulatory compliance. Organizations are adopting more cautious and responsible AI development and deployment strategies.\\n\\n5. **AI in Data and Analytics**:\\n   - The role of AI in data and analytics is evolving, with a focus on integrating AI capabilities into existing data pipelines and analytics workflows. This trend is driven by the need for more accurate and actionable insights.\\n\\n#### Breakthrough AI Technologies in 2024\\n\\n1. **AI-Powered Scientific Discovery**:\\n   - AI is playing a crucial role in accelerating scientific research and discovery. AI algorithms are being used to analyze vast amounts of data, identify patterns, and generate new hypotheses in fields such as medicine, materials science, and climate research.\\n\\n2. **Elastocalorics**:\\n   - Elastocaloric materials, which can change temperature under mechanical stress, are being explored for their potential in energy-efficient cooling systems. AI is being used to optimize the design and performance of these materials.\\n\\n3. **Advanced Virtual Agents**:\\n   - Virtual agents are becoming more powerful and capable of handling complex interactions. These agents are being used in customer service, healthcare, and education to provide personalized and efficient support.\\n\\n4. **Model Optimization**:\\n   - Techniques for optimizing AI models, such as pruning and quantization, are becoming more accessible. This allows for the deployment of AI models on resource-constrained devices, such as smartphones and IoT devices.\\n\\n5. **AI in Physics**:\\n   - Researchers are using generative AI to develop physics-informed techniques for classifying phase transitions in materials and physical systems. This approach is more efficient than existing machine-learning methods and has the potential to drive new innovations in various industries.\\n\\n#### Potential Industry Impacts\\n\\n1. **Manufacturing**:\\n   - The manufacturing industry is expected to see the largest financial impact from AI. AI-driven automation, predictive maintenance, and quality control are enhancing productivity and reducing costs.\\n\\n2. **Healthcare**:\\n   - AI is transforming healthcare by enabling early diagnosis, personalized treatment plans, and efficient management of healthcare resources. AI-powered tools are improving patient outcomes and reducing the burden on healthcare professionals.\\n\\n3. **Finance**:\\n   - In the finance sector, AI is being used for fraud detection, risk management, and personalized financial services. AI algorithms are enhancing the accuracy and efficiency of financial operations.\\n\\n4. **Retail**:\\n   - AI is revolutionizing the retail industry by enabling personalized shopping experiences, optimizing supply chain management, and enhancing customer service. Retailers are using AI to analyze consumer behavior and predict trends.\\n\\n5. **Energy**:\\n   - AI is playing a key role in optimizing energy production and consumption. AI algorithms are being used to manage smart grids, predict energy demand, and improve the efficiency of renewable energy sources.'}\u001b[0m\u001b[32;1m\u001b[1;3m{'checked_output': '### Comprehensive Analysis of AI Advancements in 2024\\n\\n#### Key Trends in AI 2024\\n\\n1. **Generative AI Maturation**:\\n   - Generative AI, which gained significant attention in 2023, is expected to become more practical and useful for everyday users in 2024. This includes applications in content creation, customer service, and personalized experiences.\\n   - The adoption of generative AI by businesses is accelerating, with 65% of organizations regularly using it, nearly double the percentage from the previous year.\\n\\n2. **Multimodal AI**:\\n   - Multimodal AI, which processes and integrates data from multiple sources (e.g., text, images, audio), is becoming more prevalent. This allows for more sophisticated and context-aware AI applications.\\n\\n3. **Smaller and Open Source Models**:\\n   - There is a trend towards smaller, more efficient AI models that are easier to deploy and manage. Open source AI models are gaining traction, enabling businesses to customize and optimize AI solutions for their specific needs.\\n\\n4. **Ethics and Regulation**:\\n   - As AI technologies become more integrated into society, there is a growing emphasis on ethical considerations, safety, and regulatory compliance. Organizations are adopting more cautious and responsible AI development and deployment strategies.\\n\\n5. **AI in Data and Analytics**:\\n   - The role of AI in data and analytics is evolving, with a focus on integrating AI capabilities into existing data pipelines and analytics workflows. This trend is driven by the need for more accurate and actionable insights.\\n\\n#### Breakthrough AI Technologies in 2024\\n\\n1. **AI-Powered Scientific Discovery**:\\n   - AI is playing a crucial role in accelerating scientific research and discovery. AI algorithms are being used to analyze vast amounts of data, identify patterns, and generate new hypotheses in fields such as medicine, materials science, and climate research.\\n\\n2. **Elastocalorics**:\\n   - Elastocaloric materials, which can change temperature under mechanical stress, are being explored for their potential in energy-efficient cooling systems. AI is being used to optimize the design and performance of these materials.\\n\\n3. **Advanced Virtual Agents**:\\n   - Virtual agents are becoming more powerful and capable of handling complex interactions. These agents are being used in customer service, healthcare, and education to provide personalized and efficient support.\\n\\n4. **Model Optimization**:\\n   - Techniques for optimizing AI models, such as pruning and quantization, are becoming more accessible. This allows for the deployment of AI models on resource-constrained devices, such as smartphones and IoT devices.\\n\\n5. **AI in Physics**:\\n   - Researchers are using generative AI to develop physics-informed techniques for classifying phase transitions in materials and physical systems. This approach is more efficient than existing machine-learning methods and has the potential to drive new innovations in various industries.\\n\\n#### Potential Industry Impacts\\n\\n1. **Manufacturing**:\\n   - The manufacturing industry is expected to see the largest financial impact from AI. AI-driven automation, predictive maintenance, and quality control are enhancing productivity and reducing costs.\\n\\n2. **Healthcare**:\\n   - AI is transforming healthcare by enabling early diagnosis, personalized treatment plans, and efficient management of healthcare resources. AI-powered tools are improving patient outcomes and reducing the burden on healthcare professionals.\\n\\n3. **Finance**:\\n   - In the finance sector, AI is being used for fraud detection, risk management, and personalized financial services. AI algorithms are enhancing the accuracy and efficiency of financial operations.\\n\\n4. **Retail**:\\n   - AI is revolutionizing the retail industry by enabling personalized shopping experiences, optimizing supply chain management, and enhancing customer service. Retailers are using AI to analyze consumer behavior and predict trends.\\n\\n5. **Energy**:\\n   - AI is playing a key role in optimizing energy production and consumption. AI algorithms are being used to manage smart grids, predict energy demand, and improve the efficiency of renewable energy sources.'}\u001b[0m\n",
      "\n",
      "\u001b[1m> Finished chain.\u001b[0m\n"
     ]
    },
    {
     "data": {
      "text/plain": [
       "[TaskUnit(status=done)]"
      ]
     },
     "execution_count": 4,
     "metadata": {},
     "output_type": "execute_result"
    }
   ],
   "source": [
    "crew.run()"
   ]
  },
  {
   "cell_type": "markdown",
   "metadata": {},
   "source": [
    "As you can see in the logs, our physics requirement was successfully fed back to the agent!"
   ]
  },
  {
   "cell_type": "code",
   "execution_count": 5,
   "metadata": {},
   "outputs": [
    {
     "data": {
      "text/markdown": [
       "### Comprehensive Analysis of AI Advancements in 2024\n",
       "\n",
       "#### Key Trends in AI 2024\n",
       "\n",
       "1. **Generative AI Maturation**:\n",
       "   - Generative AI, which gained significant attention in 2023, is expected to become more practical and useful for everyday users in 2024. This includes applications in content creation, customer service, and personalized experiences.\n",
       "   - The adoption of generative AI by businesses is accelerating, with 65% of organizations regularly using it, nearly double the percentage from the previous year.\n",
       "\n",
       "2. **Multimodal AI**:\n",
       "   - Multimodal AI, which processes and integrates data from multiple sources (e.g., text, images, audio), is becoming more prevalent. This allows for more sophisticated and context-aware AI applications.\n",
       "\n",
       "3. **Smaller and Open Source Models**:\n",
       "   - There is a trend towards smaller, more efficient AI models that are easier to deploy and manage. Open source AI models are gaining traction, enabling businesses to customize and optimize AI solutions for their specific needs.\n",
       "\n",
       "4. **Ethics and Regulation**:\n",
       "   - As AI technologies become more integrated into society, there is a growing emphasis on ethical considerations, safety, and regulatory compliance. Organizations are adopting more cautious and responsible AI development and deployment strategies.\n",
       "\n",
       "5. **AI in Data and Analytics**:\n",
       "   - The role of AI in data and analytics is evolving, with a focus on integrating AI capabilities into existing data pipelines and analytics workflows. This trend is driven by the need for more accurate and actionable insights.\n",
       "\n",
       "#### Breakthrough AI Technologies in 2024\n",
       "\n",
       "1. **AI-Powered Scientific Discovery**:\n",
       "   - AI is playing a crucial role in accelerating scientific research and discovery. AI algorithms are being used to analyze vast amounts of data, identify patterns, and generate new hypotheses in fields such as medicine, materials science, and climate research.\n",
       "\n",
       "2. **Elastocalorics**:\n",
       "   - Elastocaloric materials, which can change temperature under mechanical stress, are being explored for their potential in energy-efficient cooling systems. AI is being used to optimize the design and performance of these materials.\n",
       "\n",
       "3. **Advanced Virtual Agents**:\n",
       "   - Virtual agents are becoming more powerful and capable of handling complex interactions. These agents are being used in customer service, healthcare, and education to provide personalized and efficient support.\n",
       "\n",
       "4. **Model Optimization**:\n",
       "   - Techniques for optimizing AI models, such as pruning and quantization, are becoming more accessible. This allows for the deployment of AI models on resource-constrained devices, such as smartphones and IoT devices.\n",
       "\n",
       "5. **AI in Physics**:\n",
       "   - Researchers are using generative AI to develop physics-informed techniques for classifying phase transitions in materials and physical systems. This approach is more efficient than existing machine-learning methods and has the potential to drive new innovations in various industries.\n",
       "\n",
       "#### Potential Industry Impacts\n",
       "\n",
       "1. **Manufacturing**:\n",
       "   - The manufacturing industry is expected to see the largest financial impact from AI. AI-driven automation, predictive maintenance, and quality control are enhancing productivity and reducing costs.\n",
       "\n",
       "2. **Healthcare**:\n",
       "   - AI is transforming healthcare by enabling early diagnosis, personalized treatment plans, and efficient management of healthcare resources. AI-powered tools are improving patient outcomes and reducing the burden on healthcare professionals.\n",
       "\n",
       "3. **Finance**:\n",
       "   - In the finance sector, AI is being used for fraud detection, risk management, and personalized financial services. AI algorithms are enhancing the accuracy and efficiency of financial operations.\n",
       "\n",
       "4. **Retail**:\n",
       "   - AI is revolutionizing the retail industry by enabling personalized shopping experiences, optimizing supply chain management, and enhancing customer service. Retailers are using AI to analyze consumer behavior and predict trends.\n",
       "\n",
       "5. **Energy**:\n",
       "   - AI is playing a key role in optimizing energy production and consumption. AI algorithms are being used to manage smart grids, predict energy demand, and improve the efficiency of renewable energy sources."
      ],
      "text/plain": [
       "<IPython.core.display.Markdown object>"
      ]
     },
     "metadata": {},
     "output_type": "display_data"
    }
   ],
   "source": [
    "from IPython.display import display, Markdown\n",
    "\n",
    "final_result = task.output[\"checked_output\"]\n",
    "display(Markdown(final_result))"
   ]
  }
 ],
 "metadata": {
  "kernelspec": {
   "display_name": "Python 3 (ipykernel)",
   "language": "python",
   "name": "python3"
  },
  "language_info": {
   "codemirror_mode": {
    "name": "ipython",
    "version": 3
   },
   "file_extension": ".py",
   "mimetype": "text/x-python",
   "name": "python",
   "nbconvert_exporter": "python",
   "pygments_lexer": "ipython3",
   "version": "3.12.2"
  }
 },
 "nbformat": 4,
 "nbformat_minor": 2
}
