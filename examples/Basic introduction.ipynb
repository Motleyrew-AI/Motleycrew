{
 "cells": [
  {
   "cell_type": "markdown",
   "id": "87b73640",
   "metadata": {},
   "source": [
    "# Basic introduction"
   ]
  },
  {
   "cell_type": "markdown",
   "id": "5877df83-f5d8-447e-a200-ec249268210b",
   "metadata": {},
   "source": [
    "This is an introduction to the simple version of our API, which allows you to mix and match tools and agents from different frameworks and pass agents as tools to other agents.\n",
    "\n",
    "After reading this, you might want to continue to the [introduction to the full API](?) to see how you can implement more flexible and powerful dispatch via dynamic knowledge graphs.\n",
    "\n",
    "Also worth reading is the [introduction to caching and tracing](?)"
   ]
  },
  {
   "cell_type": "code",
   "execution_count": null,
   "id": "2596164c",
   "metadata": {},
   "outputs": [],
   "source": [
    "from pathlib import Path\n",
    "import shutil\n",
    "import os, sys\n",
    "import platform\n",
    "\n",
    "import kuzu\n",
    "from dotenv import load_dotenv\n",
    "\n",
    "# This assumes you have a .env file in the examples folder, containing your OpenAI key\n",
    "load_dotenv()\n",
    "\n",
    "WORKING_DIR = Path(os.path.realpath(\".\"))\n",
    "\n",
    "try: \n",
    "    from motleycrew import MotleyCrew\n",
    "except ImportError:\n",
    "    # if we are running this from source\n",
    "    motleycrew_location = os.path.realpath(WORKING_DIR / \"..\")\n",
    "    sys.path.append(motleycrew_location)\n",
    "\n",
    "if \"Dropbox\" in WORKING_DIR.parts and platform.system() == \"Windows\":\n",
    "    # On Windows, kuzu has file locking issues with Dropbox\n",
    "    DB_PATH = os.path.realpath(os.path.expanduser(\"~\") + \"/Documents/research_db\")\n",
    "else:\n",
    "    DB_PATH = os.path.realpath(WORKING_DIR / \"research_db\")\n",
    "\n",
    "shutil.rmtree(DB_PATH)\n",
    "\n",
    "from motleycrew import MotleyCrew\n",
    "from motleycrew.storage import MotleyKuzuGraphStore\n",
    "from motleycrew.common.utils import configure_logging\n",
    "from motleycrew.applications.research_agent.question_task_recipe import QuestionTaskRecipe\n",
    "from motleycrew.applications.research_agent.answer_task_recipe import AnswerTaskRecipe\n",
    "from motleycrew.tool.simple_retriever_tool import SimpleRetrieverTool\n",
    "\n",
    "configure_logging(verbose=True)"
   ]
  },
  {
   "cell_type": "code",
   "execution_count": null,
   "id": "03f5fb3d-5c75-441b-9f60-0c4a17974c79",
   "metadata": {},
   "outputs": [],
   "source": [
    "db = kuzu.Database(DB_PATH)\n",
    "graph_store = MotleyKuzuGraphStore(db)\n",
    "crew = MotleyCrew(graph_store=graph_store)"
   ]
  }
 ],
 "metadata": {
  "kernelspec": {
   "display_name": "Python 3 (ipykernel)",
   "language": "python",
   "name": "python3"
  },
  "language_info": {
   "codemirror_mode": {
    "name": "ipython",
    "version": 3
   },
   "file_extension": ".py",
   "mimetype": "text/x-python",
   "name": "python",
   "nbconvert_exporter": "python",
   "pygments_lexer": "ipython3",
   "version": "3.11.5"
  }
 },
 "nbformat": 4,
 "nbformat_minor": 5
}
