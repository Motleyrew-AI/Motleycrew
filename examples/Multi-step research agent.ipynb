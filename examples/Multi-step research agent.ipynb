{
 "cells": [
  {
   "cell_type": "markdown",
   "id": "0af01a23-58b5-4679-9e9c-89c74708fdab",
   "metadata": {},
   "source": [
    "# Multi-step research agent example"
   ]
  },
  {
   "cell_type": "markdown",
   "id": "a0c34f4c-4398-441b-b435-5ec1dc77a282",
   "metadata": {},
   "source": [
    "The research agent is inspired by [this project](https://github.com/rahulnyk/research_agent) and [BabyAGI](https://github.com/yoheinakajima/babyagi/tree/main).\n",
    "\n",
    "The idea is as follows: we start with a research question and some source of data we can retrieve from. We retrieve the data relevant for the original question, but then instead of feeding it into the LLM prompt to answer the question, like a conventional RAG would do, we use it to ask an LLM what further questions, based on the retrieved context, would be most useful to answer the original question. We then pick one of these to do retrieval on, and by repeating that process, build a tree of questions, each with attached context, which we store as a knowledge graph.\n",
    "\n",
    "When we decide we've done this for long enough (currently just a constraint on the number of nodes), we then walk back up the graph, first answering the leaf questions, then using these answers (along with the context retrieved for their parent question) to answer the parent question, etc. "
   ]
  },
  {
   "cell_type": "code",
   "execution_count": 1,
   "id": "f98875ae-db68-4f1d-9c86-93a32633b19d",
   "metadata": {},
   "outputs": [],
   "source": [
    "from pathlib import Path\n",
    "import shutil\n",
    "import os, sys\n",
    "import platform\n",
    "\n",
    "import kuzu\n",
    "from dotenv import load_dotenv\n",
    "\n",
    "# This assumes you have a .env file in the examples folder, containing your OpenAI key\n",
    "load_dotenv()\n",
    "\n",
    "WORKING_DIR = Path(os.path.realpath(\".\"))\n",
    "\n",
    "try: \n",
    "    from motleycrew import MotleyCrew\n",
    "except ImportError:\n",
    "    # if we are running this from source\n",
    "    motleycrew_location = os.path.realpath(WORKING_DIR / \"..\")\n",
    "    sys.path.append(motleycrew_location)\n",
    "\n",
    "if \"Dropbox\" in WORKING_DIR.parts and platform.system() == \"Windows\":\n",
    "    # On Windows, kuzu has file locking issues with Dropbox\n",
    "    DB_PATH = os.path.realpath(os.path.expanduser(\"~\") + \"/Documents/research_db\")\n",
    "else:\n",
    "    DB_PATH = os.path.realpath(WORKING_DIR / \"research_db\")\n",
    "\n",
    "shutil.rmtree(DB_PATH)\n",
    "\n",
    "from motleycrew import MotleyCrew\n",
    "from motleycrew.storage import MotleyKuzuGraphStore\n",
    "from motleycrew.common.utils import configure_logging\n",
    "from motleycrew.applications.research_agent.question_task_recipe import QuestionTaskRecipe\n",
    "from motleycrew.applications.research_agent.answer_task_recipe import AnswerTaskRecipe\n",
    "from motleycrew.tool.simple_retriever_tool import SimpleRetrieverTool\n",
    "\n",
    "configure_logging(verbose=True)"
   ]
  },
  {
   "cell_type": "code",
   "execution_count": 9,
   "id": "0f351a51-df42-4c12-8f14-a5fe94d4f145",
   "metadata": {},
   "outputs": [],
   "source": [
    "DATA_DIR = os.path.realpath(os.path.join(WORKING_DIR, \"mahabharata/text/TinyTales\"))\n",
    "PERSIST_DIR = WORKING_DIR / \"storage\""
   ]
  },
  {
   "cell_type": "code",
   "execution_count": 3,
   "id": "eac94541-2eb0-4e5a-9303-03ad924135e0",
   "metadata": {},
   "outputs": [
    {
     "name": "stderr",
     "output_type": "stream",
     "text": [
      "fatal: destination path 'mahabharata' already exists and is not an empty directory.\n"
     ]
    }
   ],
   "source": [
    "# Only run this the first time you run the notebook, to get the data\n",
    "!git clone https://github.com/rahulnyk/mahabharata.git"
   ]
  },
  {
   "cell_type": "code",
   "execution_count": 4,
   "id": "714bc24e-b28f-4d98-8fc9-6cdc54b7ced3",
   "metadata": {},
   "outputs": [
    {
     "name": "stderr",
     "output_type": "stream",
     "text": [
      "2024-05-15 13:02:03,872 - INFO - Node table MotleyGraphNode does not exist in the database, creating\n",
      "2024-05-15 13:02:03,887 - INFO - Relation table dummy from MotleyGraphNode to MotleyGraphNode does not exist in the database, creating\n"
     ]
    }
   ],
   "source": [
    "db = kuzu.Database(DB_PATH)\n",
    "graph_store = MotleyKuzuGraphStore(db)\n",
    "crew = MotleyCrew(graph_store=graph_store)"
   ]
  },
  {
   "cell_type": "code",
   "execution_count": 5,
   "id": "3432c972-8130-4095-b7a0-6d3affc216f8",
   "metadata": {},
   "outputs": [
    {
     "name": "stderr",
     "output_type": "stream",
     "text": [
      "2024-05-15 13:02:05,096 - INFO - Loading all indices.\n",
      "2024-05-15 13:02:05,696 - INFO - Node table TaskRecipeNode does not exist in the database, creating\n",
      "2024-05-15 13:02:05,724 - INFO - Property name not present in table for label TaskRecipeNode, creating\n",
      "2024-05-15 13:02:05,752 - INFO - Property done not present in table for label TaskRecipeNode, creating\n",
      "2024-05-15 13:02:05,779 - INFO - Inserting new node with label TaskRecipeNode: name='QuestionTaskRecipe' done=False\n",
      "2024-05-15 13:02:05,813 - INFO - Node created OK\n",
      "2024-05-15 13:02:05,816 - INFO - Relation table task_recipe_is_upstream from TaskRecipeNode to TaskRecipeNode does not exist in the database, creating\n",
      "2024-05-15 13:02:05,838 - INFO - Node table Question does not exist in the database, creating\n",
      "2024-05-15 13:02:05,862 - INFO - Property question not present in table for label Question, creating\n",
      "2024-05-15 13:02:05,888 - INFO - Property answer not present in table for label Question, creating\n",
      "2024-05-15 13:02:05,913 - INFO - Property context not present in table for label Question, creating\n",
      "2024-05-15 13:02:05,914 - WARNING - No known Cypher type matching annotation typing.Optional[list[str]], will use JSON string\n",
      "2024-05-15 13:02:05,940 - INFO - Inserting new node with label Question: question='Why did Arjuna kill Karna, his half-brother?' answer=None context=None\n",
      "2024-05-15 13:02:05,970 - INFO - Node created OK\n",
      "2024-05-15 13:02:07,272 - INFO - Inserting new node with label TaskRecipeNode: name='AnswerTaskRecipe' done=False\n",
      "2024-05-15 13:02:07,301 - INFO - Node created OK\n",
      "2024-05-15 13:02:07,799 - INFO - Creating relation task_recipe_is_upstream from TaskRecipeNode:0 to TaskRecipeNode:1\n",
      "2024-05-15 13:02:07,822 - INFO - Relation created OK\n"
     ]
    },
    {
     "data": {
      "text/plain": [
       "QuestionTaskRecipe(name=QuestionTaskRecipe, done=False)"
      ]
     },
     "execution_count": 5,
     "metadata": {},
     "output_type": "execute_result"
    }
   ],
   "source": [
    "QUESTION = \"Why did Arjuna kill Karna, his half-brother?\"\n",
    "MAX_ITER = 3\n",
    "ANSWER_LENGTH = 200\n",
    "\n",
    "query_tool = SimpleRetrieverTool(DATA_DIR, PERSIST_DIR, return_strings_only=True)\n",
    "\n",
    "# We need to pas the crew to the TaskRecipes so they have access to the graph store\n",
    "# and the crew is aware of them\n",
    "\n",
    "# The question recipe is responsible for new question generation\n",
    "question_recipe = QuestionTaskRecipe(\n",
    "    crew=crew, question=QUESTION, query_tool=query_tool, max_iter=MAX_ITER\n",
    ")\n",
    "\n",
    "# The answer recipe is responsible for rolling the answers up the tree\n",
    "answer_recipe = AnswerTaskRecipe(answer_length=ANSWER_LENGTH, crew=crew)\n",
    "\n",
    "# Only kick off the answer recipe once the question recipe is done\n",
    "question_recipe >> answer_recipe"
   ]
  },
  {
   "cell_type": "code",
   "execution_count": 6,
   "id": "5e045362-5376-4198-83d2-0d380fb1e17f",
   "metadata": {
    "scrolled": true
   },
   "outputs": [
    {
     "name": "stderr",
     "output_type": "stream",
     "text": [
      "2024-05-15 13:02:07,832 - WARNING - Multithreading is not implemented yet, will run in single thread\n",
      "2024-05-15 13:02:07,858 - INFO - Available task recipes: [QuestionTaskRecipe(name=QuestionTaskRecipe, done=False)]\n",
      "2024-05-15 13:02:07,858 - INFO - Processing recipe: QuestionTaskRecipe(name=QuestionTaskRecipe, done=False)\n",
      "2024-05-15 13:02:07,870 - INFO - Loaded unanswered questions: [Question(id=0, question=Why did Arjuna kill Karna, his half-brother?, answer=None, context=None)]\n",
      "2024-05-15 13:02:08,620 - INFO - HTTP Request: POST https://api.openai.com/v1/chat/completions \"HTTP/1.1 200 OK\"\n",
      "2024-05-15 13:02:08,629 - INFO - Most pertinent question according to the tool: question='Why did Arjuna kill Karna, his half-brother?' answer=None context=None\n",
      "2024-05-15 13:02:08,630 - INFO - Got 1 matching tasks for recipe QuestionTaskRecipe(name=QuestionTaskRecipe, done=False)\n",
      "2024-05-15 13:02:08,630 - INFO - Processing task: Task(status=pending)\n",
      "2024-05-15 13:02:08,631 - INFO - Assigned task Task(status=pending) to agent <motleycrew.applications.research_agent.question_generator.QuestionGeneratorTool object at 0x00000A05DFCAE110>, dispatching\n",
      "2024-05-15 13:02:08,633 - INFO - Node table QuestionGenerationTask does not exist in the database, creating\n",
      "2024-05-15 13:02:08,652 - INFO - Property status not present in table for label QuestionGenerationTask, creating\n",
      "2024-05-15 13:02:08,667 - INFO - Property output not present in table for label QuestionGenerationTask, creating\n",
      "2024-05-15 13:02:08,668 - WARNING - No known Cypher type matching annotation typing.Optional[typing.Any], will use JSON string\n",
      "2024-05-15 13:02:08,683 - INFO - Property question not present in table for label QuestionGenerationTask, creating\n",
      "2024-05-15 13:02:08,683 - WARNING - No known Cypher type matching annotation <class 'motleycrew.applications.research_agent.question.Question'>, will use JSON string\n",
      "2024-05-15 13:02:08,697 - INFO - Inserting new node with label QuestionGenerationTask: Task(status=running)\n",
      "2024-05-15 13:02:08,697 - WARNING - No known Cypher type matching annotation <class 'motleycrew.applications.research_agent.question.Question'>, will use JSON string\n",
      "2024-05-15 13:02:08,724 - INFO - Node created OK\n",
      "2024-05-15 13:02:09,243 - INFO - HTTP Request: POST https://api.openai.com/v1/embeddings \"HTTP/1.1 200 OK\"\n",
      "2024-05-15 13:02:13,715 - INFO - HTTP Request: POST https://api.openai.com/v1/chat/completions \"HTTP/1.1 200 OK\"\n",
      "2024-05-15 13:02:13,741 - INFO - Inserting question: What were the circumstances that led to Arjuna killing Karna during their duel?\n",
      "2024-05-15 13:02:13,746 - WARNING - No known Cypher type matching annotation typing.Optional[list[str]], will use JSON string\n",
      "2024-05-15 13:02:13,749 - INFO - Inserting new node with label Question: question='What were the circumstances that led to Arjuna killing Karna during their duel?' answer=None context=None\n",
      "2024-05-15 13:02:13,795 - INFO - Node created OK\n",
      "2024-05-15 13:02:13,799 - INFO - Relation table is_subquestion from Question to Question does not exist in the database, creating\n",
      "2024-05-15 13:02:13,812 - INFO - Creating relation is_subquestion from Question:0 to Question:1\n",
      "2024-05-15 13:02:13,827 - INFO - Relation created OK\n",
      "2024-05-15 13:02:13,828 - INFO - Inserting question: How did Karna's previous actions and curses affect his combat abilities and fate in the battle against Arjuna?\n",
      "2024-05-15 13:02:13,830 - INFO - Inserting new node with label Question: question=\"How did Karna's previous actions and curses affect his combat abilities and fate in the battle against Arjuna?\" answer=None context=None\n",
      "2024-05-15 13:02:13,844 - INFO - Node created OK\n",
      "2024-05-15 13:02:13,848 - INFO - Creating relation is_subquestion from Question:0 to Question:2\n",
      "2024-05-15 13:02:13,868 - INFO - Relation created OK\n",
      "2024-05-15 13:02:13,869 - INFO - Inserting question: What role did Krishna play in the duel between Karna and Arjuna, and how did it influence the outcome?\n",
      "2024-05-15 13:02:13,871 - INFO - Inserting new node with label Question: question='What role did Krishna play in the duel between Karna and Arjuna, and how did it influence the outcome?' answer=None context=None\n",
      "2024-05-15 13:02:13,885 - INFO - Node created OK\n",
      "2024-05-15 13:02:13,890 - INFO - Creating relation is_subquestion from Question:0 to Question:3\n",
      "2024-05-15 13:02:13,910 - INFO - Relation created OK\n",
      "2024-05-15 13:02:13,911 - INFO - Inserted 3 questions\n",
      "2024-05-15 13:02:13,914 - WARNING - No known Cypher type matching annotation typing.Optional[typing.Any], will use JSON string\n",
      "2024-05-15 13:02:13,927 - INFO - Task Task(status=running) completed, marking as done\n",
      "2024-05-15 13:02:13,941 - INFO - ==== Completed iteration 1 of 3 ====\n",
      "2024-05-15 13:02:13,956 - INFO - Available task recipes: [QuestionTaskRecipe(name=QuestionTaskRecipe, done=False)]\n",
      "2024-05-15 13:02:13,957 - INFO - Processing recipe: QuestionTaskRecipe(name=QuestionTaskRecipe, done=False)\n",
      "2024-05-15 13:02:13,980 - INFO - Loaded unanswered questions: [Question(id=1, question=What were the circumstances that led to Arjuna killing Karna during their duel?, answer=None, context=None), Question(id=2, question=How did Karna's previous actions and curses affect his combat abilities and fate in the battle against Arjuna?, answer=None, context=None), Question(id=3, question=What role did Krishna play in the duel between Karna and Arjuna, and how did it influence the outcome?, answer=None, context=None)]\n",
      "2024-05-15 13:02:16,278 - INFO - HTTP Request: POST https://api.openai.com/v1/chat/completions \"HTTP/1.1 200 OK\"\n",
      "2024-05-15 13:02:16,284 - INFO - Most pertinent question according to the tool: question='What were the circumstances that led to Arjuna killing Karna during their duel?' answer=None context=None\n",
      "2024-05-15 13:02:16,285 - INFO - Got 1 matching tasks for recipe QuestionTaskRecipe(name=QuestionTaskRecipe, done=False)\n",
      "2024-05-15 13:02:16,286 - INFO - Processing task: Task(status=pending)\n",
      "2024-05-15 13:02:16,287 - INFO - Assigned task Task(status=pending) to agent <motleycrew.applications.research_agent.question_generator.QuestionGeneratorTool object at 0x00000A05DFCAE110>, dispatching\n",
      "2024-05-15 13:02:16,288 - INFO - Inserting new node with label QuestionGenerationTask: Task(status=running)\n",
      "2024-05-15 13:02:16,289 - WARNING - No known Cypher type matching annotation <class 'motleycrew.applications.research_agent.question.Question'>, will use JSON string\n",
      "2024-05-15 13:02:16,309 - INFO - Node created OK\n",
      "2024-05-15 13:02:16,645 - INFO - HTTP Request: POST https://api.openai.com/v1/embeddings \"HTTP/1.1 200 OK\"\n",
      "2024-05-15 13:02:20,150 - INFO - HTTP Request: POST https://api.openai.com/v1/chat/completions \"HTTP/1.1 200 OK\"\n",
      "2024-05-15 13:02:20,163 - INFO - Inserting question: What role did Krishna play in the circumstances leading to Arjuna killing Karna during their duel?\n",
      "2024-05-15 13:02:20,166 - WARNING - No known Cypher type matching annotation typing.Optional[list[str]], will use JSON string\n",
      "2024-05-15 13:02:20,167 - INFO - Inserting new node with label Question: question='What role did Krishna play in the circumstances leading to Arjuna killing Karna during their duel?' answer=None context=None\n",
      "2024-05-15 13:02:20,199 - INFO - Node created OK\n",
      "2024-05-15 13:02:20,204 - INFO - Creating relation is_subquestion from Question:1 to Question:4\n",
      "2024-05-15 13:02:20,224 - INFO - Relation created OK\n",
      "2024-05-15 13:02:20,225 - INFO - Inserting question: How did Karna's chariot getting stuck in the mud influence the outcome of his duel with Arjuna?\n",
      "2024-05-15 13:02:20,227 - INFO - Inserting new node with label Question: question=\"How did Karna's chariot getting stuck in the mud influence the outcome of his duel with Arjuna?\" answer=None context=None\n",
      "2024-05-15 13:02:20,240 - INFO - Node created OK\n",
      "2024-05-15 13:02:20,244 - INFO - Creating relation is_subquestion from Question:1 to Question:5\n",
      "2024-05-15 13:02:20,262 - INFO - Relation created OK\n",
      "2024-05-15 13:02:20,262 - INFO - Inserting question: What were the consequences of Karna forgetting the mantra to launch the Brahmastra during his duel with Arjuna?\n",
      "2024-05-15 13:02:20,264 - INFO - Inserting new node with label Question: question='What were the consequences of Karna forgetting the mantra to launch the Brahmastra during his duel with Arjuna?' answer=None context=None\n",
      "2024-05-15 13:02:20,277 - INFO - Node created OK\n",
      "2024-05-15 13:02:20,281 - INFO - Creating relation is_subquestion from Question:1 to Question:6\n",
      "2024-05-15 13:02:20,299 - INFO - Relation created OK\n",
      "2024-05-15 13:02:20,299 - INFO - Inserted 3 questions\n",
      "2024-05-15 13:02:20,302 - WARNING - No known Cypher type matching annotation typing.Optional[typing.Any], will use JSON string\n",
      "2024-05-15 13:02:20,315 - INFO - Task Task(status=running) completed, marking as done\n",
      "2024-05-15 13:02:20,330 - INFO - ==== Completed iteration 2 of 3 ====\n",
      "2024-05-15 13:02:20,348 - INFO - Available task recipes: [QuestionTaskRecipe(name=QuestionTaskRecipe, done=False)]\n",
      "2024-05-15 13:02:20,348 - INFO - Processing recipe: QuestionTaskRecipe(name=QuestionTaskRecipe, done=False)\n",
      "2024-05-15 13:02:20,362 - INFO - Loaded unanswered questions: [Question(id=2, question=How did Karna's previous actions and curses affect his combat abilities and fate in the battle against Arjuna?, answer=None, context=None), Question(id=3, question=What role did Krishna play in the duel between Karna and Arjuna, and how did it influence the outcome?, answer=None, context=None), Question(id=4, question=What role did Krishna play in the circumstances leading to Arjuna killing Karna during their duel?, answer=None, context=None), Question(id=5, question=How did Karna's chariot getting stuck in the mud influence the outcome of his duel with Arjuna?, answer=None, context=None), Question(id=6, question=What were the consequences of Karna forgetting the mantra to launch the Brahmastra during his duel with Arjuna?, answer=None, context=None)]\n",
      "2024-05-15 13:02:21,400 - INFO - HTTP Request: POST https://api.openai.com/v1/chat/completions \"HTTP/1.1 200 OK\"\n",
      "2024-05-15 13:02:21,405 - INFO - Most pertinent question according to the tool: question='What role did Krishna play in the circumstances leading to Arjuna killing Karna during their duel?' answer=None context=None\n",
      "2024-05-15 13:02:21,405 - INFO - Got 1 matching tasks for recipe QuestionTaskRecipe(name=QuestionTaskRecipe, done=False)\n",
      "2024-05-15 13:02:21,406 - INFO - Processing task: Task(status=pending)\n",
      "2024-05-15 13:02:21,406 - INFO - Assigned task Task(status=pending) to agent <motleycrew.applications.research_agent.question_generator.QuestionGeneratorTool object at 0x00000A05DFCAE110>, dispatching\n",
      "2024-05-15 13:02:21,407 - INFO - Inserting new node with label QuestionGenerationTask: Task(status=running)\n",
      "2024-05-15 13:02:21,408 - WARNING - No known Cypher type matching annotation <class 'motleycrew.applications.research_agent.question.Question'>, will use JSON string\n",
      "2024-05-15 13:02:21,426 - INFO - Node created OK\n",
      "2024-05-15 13:02:21,697 - INFO - HTTP Request: POST https://api.openai.com/v1/embeddings \"HTTP/1.1 200 OK\"\n",
      "2024-05-15 13:02:25,729 - INFO - HTTP Request: POST https://api.openai.com/v1/chat/completions \"HTTP/1.1 200 OK\"\n",
      "2024-05-15 13:02:25,740 - INFO - Inserting question: What specific actions did Krishna take during the duel between Arjuna and Karna that influenced the outcome?\n",
      "2024-05-15 13:02:25,743 - WARNING - No known Cypher type matching annotation typing.Optional[list[str]], will use JSON string\n",
      "2024-05-15 13:02:25,745 - INFO - Inserting new node with label Question: question='What specific actions did Krishna take during the duel between Arjuna and Karna that influenced the outcome?' answer=None context=None\n",
      "2024-05-15 13:02:25,773 - INFO - Node created OK\n",
      "2024-05-15 13:02:25,777 - INFO - Creating relation is_subquestion from Question:4 to Question:7\n",
      "2024-05-15 13:02:25,794 - INFO - Relation created OK\n",
      "2024-05-15 13:02:25,794 - INFO - Inserting question: How did Krishna's interventions during the duel reflect his role and intentions in the broader context of the battle?\n",
      "2024-05-15 13:02:25,796 - INFO - Inserting new node with label Question: question=\"How did Krishna's interventions during the duel reflect his role and intentions in the broader context of the battle?\" answer=None context=None\n",
      "2024-05-15 13:02:25,810 - INFO - Node created OK\n",
      "2024-05-15 13:02:25,815 - INFO - Creating relation is_subquestion from Question:4 to Question:8\n",
      "2024-05-15 13:02:25,832 - INFO - Relation created OK\n",
      "2024-05-15 13:02:25,833 - INFO - Inserting question: What were the consequences of Krishna's actions on Karna's fate during his duel with Arjuna?\n",
      "2024-05-15 13:02:25,834 - INFO - Inserting new node with label Question: question=\"What were the consequences of Krishna's actions on Karna's fate during his duel with Arjuna?\" answer=None context=None\n",
      "2024-05-15 13:02:25,852 - INFO - Node created OK\n",
      "2024-05-15 13:02:25,856 - INFO - Creating relation is_subquestion from Question:4 to Question:9\n",
      "2024-05-15 13:02:25,874 - INFO - Relation created OK\n",
      "2024-05-15 13:02:25,875 - INFO - Inserted 3 questions\n",
      "2024-05-15 13:02:25,878 - WARNING - No known Cypher type matching annotation typing.Optional[typing.Any], will use JSON string\n",
      "2024-05-15 13:02:25,890 - INFO - Task Task(status=running) completed, marking as done\n",
      "2024-05-15 13:02:25,904 - INFO - ==== Completed iteration 3 of 3 ====\n",
      "2024-05-15 13:02:25,931 - INFO - Available task recipes: [AnswerTaskRecipe(name=AnswerTaskRecipe, done=False)]\n",
      "2024-05-15 13:02:25,932 - INFO - Processing recipe: AnswerTaskRecipe(name=AnswerTaskRecipe, done=False)\n",
      "2024-05-15 13:02:25,950 - INFO - Available questions: [Question(id=4, question=What role did Krishna play in the circumstances leading to Arjuna killing Karna during their duel?, answer=None, context=[\"\"I made a garland for you too!...])]\n",
      "2024-05-15 13:02:25,950 - INFO - Got 1 matching tasks for recipe AnswerTaskRecipe(name=AnswerTaskRecipe, done=False)\n",
      "2024-05-15 13:02:25,951 - INFO - Processing task: Task(status=pending)\n",
      "2024-05-15 13:02:25,952 - INFO - Assigned task Task(status=pending) to agent <motleycrew.applications.research_agent.question_answerer.AnswerSubQuestionTool object at 0x00000A05DFCB7850>, dispatching\n",
      "2024-05-15 13:02:25,953 - INFO - Node table QuestionAnsweringTask does not exist in the database, creating\n",
      "2024-05-15 13:02:25,965 - INFO - Property status not present in table for label QuestionAnsweringTask, creating\n",
      "2024-05-15 13:02:25,977 - INFO - Property output not present in table for label QuestionAnsweringTask, creating\n",
      "2024-05-15 13:02:25,978 - WARNING - No known Cypher type matching annotation typing.Optional[typing.Any], will use JSON string\n",
      "2024-05-15 13:02:25,990 - INFO - Property question not present in table for label QuestionAnsweringTask, creating\n",
      "2024-05-15 13:02:25,991 - WARNING - No known Cypher type matching annotation <class 'motleycrew.applications.research_agent.question.Question'>, will use JSON string\n",
      "2024-05-15 13:02:26,003 - INFO - Inserting new node with label QuestionAnsweringTask: Task(status=running)\n",
      "2024-05-15 13:02:26,003 - WARNING - No known Cypher type matching annotation <class 'motleycrew.applications.research_agent.question.Question'>, will use JSON string\n",
      "2024-05-15 13:02:26,018 - INFO - Node created OK\n",
      "2024-05-15 13:02:39,322 - INFO - HTTP Request: POST https://api.openai.com/v1/chat/completions \"HTTP/1.1 200 OK\"\n",
      "2024-05-15 13:02:39,348 - WARNING - No known Cypher type matching annotation typing.Optional[typing.Any], will use JSON string\n",
      "2024-05-15 13:02:39,362 - INFO - Task Task(status=running) completed, marking as done\n",
      "2024-05-15 13:02:39,391 - INFO - Available task recipes: [AnswerTaskRecipe(name=AnswerTaskRecipe, done=False)]\n",
      "2024-05-15 13:02:39,392 - INFO - Processing recipe: AnswerTaskRecipe(name=AnswerTaskRecipe, done=False)\n",
      "2024-05-15 13:02:39,410 - INFO - Available questions: [Question(id=1, question=What were the circumstances that led to Arjuna killing Karna during their duel?, answer=None, context=[\"~ 158. Karna Duels with Arjuna...])]\n",
      "2024-05-15 13:02:39,411 - INFO - Got 1 matching tasks for recipe AnswerTaskRecipe(name=AnswerTaskRecipe, done=False)\n",
      "2024-05-15 13:02:39,411 - INFO - Processing task: Task(status=pending)\n",
      "2024-05-15 13:02:39,412 - INFO - Assigned task Task(status=pending) to agent <motleycrew.applications.research_agent.question_answerer.AnswerSubQuestionTool object at 0x00000A05DFCB7850>, dispatching\n",
      "2024-05-15 13:02:39,413 - INFO - Inserting new node with label QuestionAnsweringTask: Task(status=running)\n",
      "2024-05-15 13:02:39,414 - WARNING - No known Cypher type matching annotation <class 'motleycrew.applications.research_agent.question.Question'>, will use JSON string\n",
      "2024-05-15 13:02:39,430 - INFO - Node created OK\n",
      "2024-05-15 13:02:51,975 - INFO - HTTP Request: POST https://api.openai.com/v1/chat/completions \"HTTP/1.1 200 OK\"\n",
      "2024-05-15 13:02:52,001 - WARNING - No known Cypher type matching annotation typing.Optional[typing.Any], will use JSON string\n",
      "2024-05-15 13:02:52,018 - INFO - Task Task(status=running) completed, marking as done\n",
      "2024-05-15 13:02:52,057 - INFO - Available task recipes: [AnswerTaskRecipe(name=AnswerTaskRecipe, done=False)]\n",
      "2024-05-15 13:02:52,057 - INFO - Processing recipe: AnswerTaskRecipe(name=AnswerTaskRecipe, done=False)\n",
      "2024-05-15 13:02:52,072 - INFO - Available questions: [Question(id=0, question=Why did Arjuna kill Karna, his half-brother?, answer=None, context=[\"First, practicing archery, Kar...])]\n",
      "2024-05-15 13:02:52,073 - INFO - Got 1 matching tasks for recipe AnswerTaskRecipe(name=AnswerTaskRecipe, done=False)\n",
      "2024-05-15 13:02:52,073 - INFO - Processing task: Task(status=pending)\n",
      "2024-05-15 13:02:52,074 - INFO - Assigned task Task(status=pending) to agent <motleycrew.applications.research_agent.question_answerer.AnswerSubQuestionTool object at 0x00000A05DFCB7850>, dispatching\n",
      "2024-05-15 13:02:52,076 - INFO - Inserting new node with label QuestionAnsweringTask: Task(status=running)\n",
      "2024-05-15 13:02:52,076 - WARNING - No known Cypher type matching annotation <class 'motleycrew.applications.research_agent.question.Question'>, will use JSON string\n",
      "2024-05-15 13:02:52,095 - INFO - Node created OK\n",
      "2024-05-15 13:03:02,154 - INFO - HTTP Request: POST https://api.openai.com/v1/chat/completions \"HTTP/1.1 200 OK\"\n",
      "2024-05-15 13:03:02,181 - WARNING - No known Cypher type matching annotation typing.Optional[typing.Any], will use JSON string\n",
      "2024-05-15 13:03:02,194 - INFO - Task Task(status=running) completed, marking as done\n",
      "2024-05-15 13:03:02,222 - INFO - Available task recipes: [AnswerTaskRecipe(name=AnswerTaskRecipe, done=False)]\n",
      "2024-05-15 13:03:02,223 - INFO - Processing recipe: AnswerTaskRecipe(name=AnswerTaskRecipe, done=False)\n",
      "2024-05-15 13:03:02,239 - INFO - Available questions: []\n",
      "2024-05-15 13:03:02,239 - INFO - Got 0 matching tasks for recipe AnswerTaskRecipe(name=AnswerTaskRecipe, done=False)\n",
      "2024-05-15 13:03:02,239 - INFO - Nothing left to do, exiting\n"
     ]
    }
   ],
   "source": [
    "# And now run the recipes\n",
    "done_tasks = crew.run()\n"
   ]
  },
  {
   "cell_type": "code",
   "execution_count": 8,
   "id": "67342fd5-c920-4456-a546-2ee362c44e7a",
   "metadata": {},
   "outputs": [
    {
     "name": "stdout",
     "output_type": "stream",
     "text": [
      "Question:  Why did Arjuna kill Karna, his half-brother?\n",
      "Answer:  Arjuna killed Karna during their duel in the Mahabharata under complex circumstances influenced by divine interventions and curses. During the duel, Karna's chariot wheel got stuck in the mud, and as he attempted to free it, he was vulnerable. Karna, bound by a curse from his teacher Parashurama, forgot the mantra to invoke the powerful Brahmastra weapon at this critical moment. Additionally, Krishna, serving as Arjuna's charioteer, played a strategic role by lowering their chariot at a crucial moment earlier in the duel, causing a serpent-arrow aimed at Arjuna's head to miss its fatal mark. These factors, combined with the psychological impact of Krishna reminding Karna of his past dishonorable acts, left Karna disheartened and distracted. Consequently, Arjuna, abiding by the rules of warfare and with Krishna's guidance, seized the opportunity to strike Karna while he was defenseless, leading to Karna's death. This act was pivotal in the context of the ongoing conflict between the Pandavas and the Kauravas in the Mahabharata.\n",
      "To explore the graph:\n",
      "docker run -p 8000:8000  -v C:\\Users\\Egor\\Documents\\research_db:/database --rm kuzudb/explorer:latest\n",
      "And in the kuzu explorer at http://localhost:8000 enter\n",
      "MATCH (A)-[r]->(B) RETURN *;\n"
     ]
    }
   ],
   "source": [
    "final_answer = done_tasks[-1].question\n",
    "\n",
    "print(\"Question: \", final_answer.question)\n",
    "print(\"Answer: \", final_answer.answer)\n",
    "print(\"To explore the graph:\")\n",
    "print(f\"docker run -p 8000:8000  -v {DB_PATH}:/database --rm kuzudb/explorer:latest\")\n",
    "print(\"And in the kuzu explorer at http://localhost:8000 enter\")\n",
    "print(\"MATCH (A)-[r]->(B) RETURN *;\")"
   ]
  },
  {
   "cell_type": "markdown",
   "id": "f37462b9-0f8b-4a0b-8f6e-a1b50e652e19",
   "metadata": {},
   "source": [
    "![This is what you will see in Kuzu explorer](img/kuzu_explorer.png)"
   ]
  },
  {
   "cell_type": "code",
   "execution_count": null,
   "id": "1e1e2dd8-70fc-4dca-a2da-49ce4ba8da14",
   "metadata": {},
   "outputs": [],
   "source": []
  }
 ],
 "metadata": {
  "kernelspec": {
   "display_name": "Python 3 (ipykernel)",
   "language": "python",
   "name": "python3"
  },
  "language_info": {
   "codemirror_mode": {
    "name": "ipython",
    "version": 3
   },
   "file_extension": ".py",
   "mimetype": "text/x-python",
   "name": "python",
   "nbconvert_exporter": "python",
   "pygments_lexer": "ipython3",
   "version": "3.11.7"
  }
 },
 "nbformat": 4,
 "nbformat_minor": 5
}
