{
 "cells": [
  {
   "cell_type": "markdown",
   "id": "3f99f61a-c89a-4640-a9bc-9578c59741f9",
   "metadata": {},
   "source": [
    "# Quickstart"
   ]
  },
  {
   "cell_type": "markdown",
   "id": "049a504a-9a8b-43cc-be11-29f95383cb7c",
   "metadata": {},
   "source": [
    "This is a brief introduction to motleycrew. \n",
    "\n",
    "For a working example of agents, tools, crew, and SimpleTask, check out the [blog with images](examples/blog_with_images.html).\n",
    "\n",
    "For a working example of custom tasks that fully utilize the knowledge graph backend, check out the [research agent](examples/research_agent.html).\n"
   ]
  },
  {
   "cell_type": "markdown",
   "id": "5d10822b-b587-4428-95dd-b2f6860e1e28",
   "metadata": {},
   "source": [
    "## Agents and tools\n",
    "\n",
    "Motleycrew provides thin wrappers for all the common agent frameworks: Langchain, LlamaIndex, CrewAI, and Autogen (please let us know if you want any others added!).\n",
    "It also provides thin wrappers for Langchain and LlamaIndex tools, allowing you to use any of these tools with any of these agents.\n",
    "\n",
    "Motleycrew also supports **delegation**: you can simply give any agent as a tool to any other agent. \n",
    "\n",
    "All the wrappers for tools and agents implement the Runnable interface, so you can use them as-is in LCEL and Langgraph code."
   ]
  },
  {
   "cell_type": "markdown",
   "id": "762b817e-26e9-4073-8312-f9000ce0e10a",
   "metadata": {},
   "source": [
    "## Crew and tasks\n",
    "\n",
    "The other two key concepts in motleycrew are crew and tasks. The crew is the orchestrator for tasks, and must be passed to all tasks at creation; tasks can be connected into a DAG using the `>>` operator, for example `TaskA >> TaskB`. This means that `TaskB` will not be started before `TaskA` is complete, and will be given `TaskA`'s output.\n",
    "\n",
    "Once all tasks and their relationships have been set up, it all can be run via `crew.run()`, which returns a list of the executed `TaskUnits` (see below for details)."
   ]
  },
  {
   "cell_type": "markdown",
   "id": "1dc32889-56bb-4d6c-a312-55b0a3fd1117",
   "metadata": {},
   "source": [
    "### SimpleTask\n",
    "`SimpleTask` is a basic implementation of the `Task` API. It only requires a crew, a description, and an agent. When it's executed, the description is combined with the output of any upstream tasks and passed on to the agent, and the agent's output is the tasks's output. "
   ]
  },
  {
   "cell_type": "markdown",
   "id": "10d8f65e-6801-44e3-8f32-2bb33f076005",
   "metadata": {},
   "source": [
    "For a working illustration of all the concepts so far, see the [blog with images](examples/blog_with_images.html) example."
   ]
  },
  {
   "cell_type": "markdown",
   "id": "85244209-0d9e-4a8f-95a4-89f09947f510",
   "metadata": {},
   "source": [
    "## Knowledge graph backend and custom tasks"
   ]
  },
  {
   "cell_type": "markdown",
   "id": "5d8f27d7-15b9-4dbd-9f88-0f62c24eb57a",
   "metadata": {},
   "source": [
    "The functionality so far is convenient, allowing us to mix all the popular agents and tools, but otherwise fairly vanilla, little different from, for example, the CrewAI semantics. Fortunately, the above introduction just scratched the surface of the motleycrew `Task` API.\n",
    "\n",
    "Each crew is automatically given an embedded [knowledge graph backend](knowledge_graph.html). We currently use [kuzu](https://github.com/kuzudb/kuzu) because it's embeddable, available under an MIT license, and is one of the LlamaIndex-supported KG backends - please raise an issue on GitHub if you'd like us to support others.\n",
    "The relationships between tasks are automatically stored in the KG backend; but the agents that are working on the tasks can also read and write any other context they want to share.\n",
    "\n",
    "A `Task` object must implement only two methods: `get_next_unit()` and `get_worker()`. The former returns a data object (`TaskUnit`) describing the next part of the task to be done (or `None` if there is nothing to be done for that particular `Task` at the moment), and the latter returns the worker (typically an agent) that this data object can be given to for execution. The crew keeps querying all available `Task`s for `TaskUnits` and dispatching them, until done.\n",
    "\n",
    "You can see how this dispatch method easily supports different execution backends, from synchronous to asyncio, threaded, etc.\n"
   ]
  },
  {
   "cell_type": "markdown",
   "id": "ff9ea420-220a-4b38-a8e4-12e44f9386d5",
   "metadata": {},
   "source": [
    "### Example: Recursive question-answering in the research agent\n",
    "\n",
    "An example of the power of this approach is the [research agent](examples/research_agent.html). It consists of two tasks, `QuestionTask` and `AnswerTask`. The `QuestionTask` starts with a user question, and embeds this into the graph as the first un-answered question. Its `get_next_unit()` method looks up all the as yet un-answered questions, and chooses the one that's most salient to the original question (so that question is the `TaskUnit` it returns). Its worker then retrieves the context (RAG-style) for that question, but instead of answering it, creates up to 3 further questions that would be most helpful to answer in order to answer the original question. We thus build up a tree of questions, where each non-leaf node has a retrieval context attached to it - all stored in the knowledge graph for easy retrieval. This goes on until we have enough questions (currently just a fixed number of iterations).\n",
    "\n",
    "The `AnswerTask` then rolls the tree back up. It ignores all the questions without a retrieved context; and the `TaskUnit` that its `get_next_unit()` returns is then any question that has no un-answered children. Its worker then proceeds to answer that question using its retrieved context and the answers from its children, if any. This goes on until we've worked our way back up to answering the original question.\n",
    "\n"
   ]
  },
  {
   "cell_type": "markdown",
   "id": "1762f89f-96c3-4e93-ba2f-4aa8accfb14a",
   "metadata": {},
   "source": [
    "This shows how the tasks can create `TaskUnit`s for themselves and for each other, which enables a whole new level of self-organization. \n",
    "\n",
    "The different `Task`s don't have to all form part of a connected DAG either. For example, two tasks could take turns creating `TaskUnit`s for one another - just one of many interaction patterns possible within the architecture."
   ]
  },
  {
   "cell_type": "code",
   "execution_count": null,
   "id": "220c0707-64f8-4415-b9b5-2b730672b5b7",
   "metadata": {},
   "outputs": [],
   "source": []
  }
 ],
 "metadata": {
  "kernelspec": {
   "display_name": "Python 3 (ipykernel)",
   "language": "python",
   "name": "python3"
  },
  "language_info": {
   "codemirror_mode": {
    "name": "ipython",
    "version": 3
   },
   "file_extension": ".py",
   "mimetype": "text/x-python",
   "name": "python",
   "nbconvert_exporter": "python",
   "pygments_lexer": "ipython3",
   "version": "3.11.5"
  }
 },
 "nbformat": 4,
 "nbformat_minor": 5
}
