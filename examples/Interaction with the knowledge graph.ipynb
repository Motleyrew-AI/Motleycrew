{
 "cells": [
  {
   "cell_type": "markdown",
   "id": "332833da-f31a-4723-aa28-bc0788cd1f64",
   "metadata": {},
   "source": [
    "# Interacting with the knowledge graph"
   ]
  },
  {
   "cell_type": "markdown",
   "id": "7063562d-d7a3-40ca-b96c-c32bb5167a0a",
   "metadata": {},
   "source": [
    "Knowledge graph plays a key role in motleycrew. It is used to store the state that is used to dispatch workers, plus any other state you wish to store and query as part of your application.\n",
    "\n",
    "We are currently using [kuzu](https://github.com/kuzudb) as the knowledge graph backend, because it's embeddable, supports openCypher and is available under the MIT license, and also has [LlamaIndex integration](https://docs.llamaindex.ai/en/stable/api_reference/storage/graph_stores/kuzu/); please let us know if you would like to use another backend.\n",
    "\n",
    "To make interaction with kuzu from Python more natural, we have written a thin OGM (Object-graph management) layer on top of kuzu; it also allows you to do an arbitrary Cypher query to kuzu if its abstractions don't fit your purpose."
   ]
  },
  {
   "cell_type": "code",
   "execution_count": null,
   "id": "ee171d02-d671-4a82-8e7f-6e03ef6e0d4e",
   "metadata": {},
   "outputs": [],
   "source": []
  }
 ],
 "metadata": {
  "kernelspec": {
   "display_name": "Python 3 (ipykernel)",
   "language": "python",
   "name": "python3"
  },
  "language_info": {
   "codemirror_mode": {
    "name": "ipython",
    "version": 3
   },
   "file_extension": ".py",
   "mimetype": "text/x-python",
   "name": "python",
   "nbconvert_exporter": "python",
   "pygments_lexer": "ipython3",
   "version": "3.11.7"
  }
 },
 "nbformat": 4,
 "nbformat_minor": 5
}
